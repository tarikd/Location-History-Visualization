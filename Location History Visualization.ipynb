{
 "metadata": {
  "name": "",
  "signature": "sha256:4ba923ff9c882c006329981d2e2aa7785c4ae07289207467d591d6e8c5362862"
 },
 "nbformat": 3,
 "nbformat_minor": 0,
 "worksheets": [
  {
   "cells": [
    {
     "cell_type": "code",
     "collapsed": false,
     "input": [
      "import matplotlib.pyplot as plt\n",
      "import numpy as np\n",
      "import pandas as pd\n",
      "from mpl_toolkits.basemap import Basemap\n",
      "from shapely.geometry import Point, Polygon, MultiPoint, MultiPolygon\n",
      "from shapely.prepared import prep\n",
      "import fiona\n",
      "from matplotlib.collections import PatchCollection\n",
      "from descartes import PolygonPatch\n",
      "import json\n",
      "import datetime\n",
      "from itertools import chain"
     ],
     "language": "python",
     "metadata": {},
     "outputs": [],
     "prompt_number": 41
    },
    {
     "cell_type": "code",
     "collapsed": false,
     "input": [
      "with open('Historiquedespositions.json', 'r') as fh:\n",
      "    raw = json.loads(fh.read())\n",
      "\n",
      "ld = pd.DataFrame(raw['locations'])\n",
      "del raw #free up some memory"
     ],
     "language": "python",
     "metadata": {},
     "outputs": [],
     "prompt_number": 42
    },
    {
     "cell_type": "code",
     "collapsed": false,
     "input": [
      "# convert to typical units\n",
      "ld['latitudeE7'] = ld['latitudeE7']/float(1e7) \n",
      "ld['longitudeE7'] = ld['longitudeE7']/float(1e7)\n",
      "ld['timestampMs'] = ld['timestampMs'].map(lambda x: float(x)/1000) #to seconds\n",
      "ld['datetime'] = ld.timestampMs.map(datetime.datetime.fromtimestamp)"
     ],
     "language": "python",
     "metadata": {},
     "outputs": [],
     "prompt_number": 43
    },
    {
     "cell_type": "code",
     "collapsed": false,
     "input": [
      "# Rename fields based on the conversions we just did\n",
      "ld.rename(columns={'latitudeE7':'latitude', 'longitudeE7':'longitude', 'timestampMs':'timestamp'}, inplace=True)\n",
      "ld = ld[ld.accuracy < 1000] #Ignore locations with accuracy estimates over 1000m\n",
      "ld.reset_index(drop=True, inplace=True)"
     ],
     "language": "python",
     "metadata": {},
     "outputs": [],
     "prompt_number": 44
    },
    {
     "cell_type": "code",
     "collapsed": false,
     "input": [
      "shapefilename = 'ile-de-france/ile-de-france'\n",
      "shp = fiona.open(shapefilename+'.shp')\n",
      "bds = shp.bounds\n",
      "shp.close()\n",
      "\n",
      "ll = (bds[0], bds[1])\n",
      "ur = (bds[2], bds[3])\n",
      "coords = list(chain(ll, ur))\n",
      "w, h = coords[2] - coords[0], coords[3] - coords[1]\n",
      "extra = 0.01\n",
      "\n",
      "print np.mean([coords[0], coords[2]])\n",
      "print np.mean([coords[1], coords[3]])*0.01"
     ],
     "language": "python",
     "metadata": {},
     "outputs": [
      {
       "output_type": "stream",
       "stream": "stdout",
       "text": [
        "663734.5\n",
        "68425.135\n"
       ]
      }
     ],
     "prompt_number": 63
    },
    {
     "cell_type": "code",
     "collapsed": false,
     "input": [
      "m = Basemap(\n",
      "    projection='tmerc', ellps='WGS84',\n",
      "    lon_0=np.mean([coords[0], coords[2]])*0.00001,\n",
      "    lat_0=np.mean([coords[1], coords[3]])*0.00001,\n",
      "    llcrnrlon=(coords[0] - extra * w)*0.00001,\n",
      "    llcrnrlat=(coords[1] - (extra * h))*0.00001, \n",
      "    urcrnrlon=(coords[2] + extra * w)*0.00001,\n",
      "    urcrnrlat=(coords[3] + (extra * h))*0.00001,\n",
      "    resolution='i',  suppress_ticks=True)\n",
      "\n",
      "_out = m.readshapefile(shapefilename, name='ile-de-france', drawbounds=False, color='none', zorder=2)"
     ],
     "language": "python",
     "metadata": {},
     "outputs": [
      {
       "ename": "ValueError",
       "evalue": "shapefile must have lat/lon vertices  - it looks like this one has vertices\nin map projection coordinates. You can convert the shapefile to geographic\ncoordinates using the shpproj utility from the shapelib tools\n(http://shapelib.maptools.org/shapelib-tools.html)",
       "output_type": "pyerr",
       "traceback": [
        "\u001b[0;31m---------------------------------------------------------------------------\u001b[0m\n\u001b[0;31mValueError\u001b[0m                                Traceback (most recent call last)",
        "\u001b[0;32m<ipython-input-65-9dc758f1a5de>\u001b[0m in \u001b[0;36m<module>\u001b[0;34m()\u001b[0m\n\u001b[1;32m      9\u001b[0m     resolution='i',  suppress_ticks=True)\n\u001b[1;32m     10\u001b[0m \u001b[0;34m\u001b[0m\u001b[0m\n\u001b[0;32m---> 11\u001b[0;31m \u001b[0m_out\u001b[0m \u001b[0;34m=\u001b[0m \u001b[0mm\u001b[0m\u001b[0;34m.\u001b[0m\u001b[0mreadshapefile\u001b[0m\u001b[0;34m(\u001b[0m\u001b[0mshapefilename\u001b[0m\u001b[0;34m,\u001b[0m \u001b[0mname\u001b[0m\u001b[0;34m=\u001b[0m\u001b[0;34m'ile-de-france'\u001b[0m\u001b[0;34m,\u001b[0m \u001b[0mdrawbounds\u001b[0m\u001b[0;34m=\u001b[0m\u001b[0mFalse\u001b[0m\u001b[0;34m,\u001b[0m \u001b[0mcolor\u001b[0m\u001b[0;34m=\u001b[0m\u001b[0;34m'none'\u001b[0m\u001b[0;34m,\u001b[0m \u001b[0mzorder\u001b[0m\u001b[0;34m=\u001b[0m\u001b[0;36m2\u001b[0m\u001b[0;34m)\u001b[0m\u001b[0;34m\u001b[0m\u001b[0m\n\u001b[0m",
        "\u001b[0;32m/Users/Tarik/anaconda/lib/python2.7/site-packages/mpl_toolkits/basemap/__init__.pyc\u001b[0m in \u001b[0;36mreadshapefile\u001b[0;34m(self, shapefile, name, drawbounds, zorder, linewidth, color, antialiased, ax, default_encoding)\u001b[0m\n\u001b[1;32m   2175\u001b[0m                     \u001b[0mlons\u001b[0m\u001b[0;34m,\u001b[0m \u001b[0mlats\u001b[0m \u001b[0;34m=\u001b[0m \u001b[0mlist\u001b[0m\u001b[0;34m(\u001b[0m\u001b[0mzip\u001b[0m\u001b[0;34m(\u001b[0m\u001b[0;34m*\u001b[0m\u001b[0mverts\u001b[0m\u001b[0;34m[\u001b[0m\u001b[0mindx1\u001b[0m\u001b[0;34m:\u001b[0m\u001b[0mindx2\u001b[0m\u001b[0;34m]\u001b[0m\u001b[0;34m)\u001b[0m\u001b[0;34m)\u001b[0m\u001b[0;34m\u001b[0m\u001b[0m\n\u001b[1;32m   2176\u001b[0m                     \u001b[0;32mif\u001b[0m \u001b[0mmax\u001b[0m\u001b[0;34m(\u001b[0m\u001b[0mlons\u001b[0m\u001b[0;34m)\u001b[0m \u001b[0;34m>\u001b[0m \u001b[0;36m721.\u001b[0m \u001b[0;32mor\u001b[0m \u001b[0mmin\u001b[0m\u001b[0;34m(\u001b[0m\u001b[0mlons\u001b[0m\u001b[0;34m)\u001b[0m \u001b[0;34m<\u001b[0m \u001b[0;34m-\u001b[0m\u001b[0;36m721.\u001b[0m \u001b[0;32mor\u001b[0m \u001b[0mmax\u001b[0m\u001b[0;34m(\u001b[0m\u001b[0mlats\u001b[0m\u001b[0;34m)\u001b[0m \u001b[0;34m>\u001b[0m \u001b[0;36m90.01\u001b[0m \u001b[0;32mor\u001b[0m \u001b[0mmin\u001b[0m\u001b[0;34m(\u001b[0m\u001b[0mlats\u001b[0m\u001b[0;34m)\u001b[0m \u001b[0;34m<\u001b[0m \u001b[0;34m-\u001b[0m\u001b[0;36m90.01\u001b[0m\u001b[0;34m:\u001b[0m\u001b[0;34m\u001b[0m\u001b[0m\n\u001b[0;32m-> 2177\u001b[0;31m                         \u001b[0;32mraise\u001b[0m \u001b[0mValueError\u001b[0m\u001b[0;34m(\u001b[0m\u001b[0mmsg\u001b[0m\u001b[0;34m)\u001b[0m\u001b[0;34m\u001b[0m\u001b[0m\n\u001b[0m\u001b[1;32m   2178\u001b[0m                     \u001b[0;31m# if latitude is slightly greater than 90, truncate to 90\u001b[0m\u001b[0;34m\u001b[0m\u001b[0;34m\u001b[0m\u001b[0m\n\u001b[1;32m   2179\u001b[0m                     \u001b[0mlats\u001b[0m \u001b[0;34m=\u001b[0m \u001b[0;34m[\u001b[0m\u001b[0mmax\u001b[0m\u001b[0;34m(\u001b[0m\u001b[0mmin\u001b[0m\u001b[0;34m(\u001b[0m\u001b[0mlat\u001b[0m\u001b[0;34m,\u001b[0m \u001b[0;36m90.0\u001b[0m\u001b[0;34m)\u001b[0m\u001b[0;34m,\u001b[0m \u001b[0;34m-\u001b[0m\u001b[0;36m90.0\u001b[0m\u001b[0;34m)\u001b[0m \u001b[0;32mfor\u001b[0m \u001b[0mlat\u001b[0m \u001b[0;32min\u001b[0m \u001b[0mlats\u001b[0m\u001b[0;34m]\u001b[0m\u001b[0;34m\u001b[0m\u001b[0m\n",
        "\u001b[0;31mValueError\u001b[0m: shapefile must have lat/lon vertices  - it looks like this one has vertices\nin map projection coordinates. You can convert the shapefile to geographic\ncoordinates using the shpproj utility from the shapelib tools\n(http://shapelib.maptools.org/shapelib-tools.html)"
       ]
      }
     ],
     "prompt_number": 65
    },
    {
     "cell_type": "code",
     "collapsed": false,
     "input": [],
     "language": "python",
     "metadata": {},
     "outputs": [],
     "prompt_number": 34
    },
    {
     "cell_type": "code",
     "collapsed": false,
     "input": [],
     "language": "python",
     "metadata": {},
     "outputs": []
    }
   ],
   "metadata": {}
  }
 ]
}